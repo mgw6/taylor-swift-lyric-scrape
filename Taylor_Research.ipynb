{
  "nbformat": 4,
  "nbformat_minor": 0,
  "metadata": {
    "colab": {
      "provenance": [],
      "authorship_tag": "ABX9TyNh/6+8QxvzN1keUxBJGeSY",
      "include_colab_link": true
    },
    "kernelspec": {
      "name": "python3",
      "display_name": "Python 3"
    },
    "language_info": {
      "name": "python"
    }
  },
  "cells": [
    {
      "cell_type": "markdown",
      "metadata": {
        "id": "view-in-github",
        "colab_type": "text"
      },
      "source": [
        "<a href=\"https://colab.research.google.com/github/mgw6/taylor-swift-lyric-scrape/blob/main/Taylor_Research.ipynb\" target=\"_parent\"><img src=\"https://colab.research.google.com/assets/colab-badge.svg\" alt=\"Open In Colab\"/></a>"
      ]
    },
    {
      "cell_type": "markdown",
      "source": [
        "[Website](https://lyrics.ovh/)"
      ],
      "metadata": {
        "id": "a9BBZAn-P_n8"
      }
    },
    {
      "cell_type": "code",
      "source": [],
      "metadata": {
        "id": "DYXZz5UwVWjc"
      },
      "execution_count": null,
      "outputs": []
    },
    {
      "cell_type": "code",
      "source": [
        "import requests\n",
        "\n",
        "class\n",
        "\n",
        "host_website = \"https://lyrics.ovh/v1/\"\n",
        "\n",
        "request = requests.get('https://api.lyrics.ovh/v1/Taylor Swift/Red')\n",
        "\n",
        "content = request.content\n",
        "print(content)"
      ],
      "metadata": {
        "colab": {
          "base_uri": "https://localhost:8080/"
        },
        "id": "p3tetzDVVFnV",
        "outputId": "38bc2bbe-bbe1-4b33-b25d-2293ecd29fff"
      },
      "execution_count": null,
      "outputs": [
        {
          "output_type": "stream",
          "name": "stdout",
          "text": [
            "b'{\"lyrics\":\"Paroles de la chanson Red (Taylor\\xe2\\x80\\x99s Version) par Taylor Swift\\\\r\\\\nLoving him is like driving a new Maserati down a dead end street\\\\nFaster than the wind\\\\nPassionate as sin, ended so suddenly\\\\nLoving him is like trying to change your mind\\\\nOnce you\\xe2\\x80\\x99re already flying through the free fall\\\\nLike the colors in autumn\\\\nSo bright just before they lose it all\\\\n\\\\nLosing him was blue like I\\xe2\\x80\\x99d never known\\\\nMissing him was dark grey all alone\\\\nForgetting him was like trying to know somebody you\\'ve never met\\\\nBut loving him was red\\\\nLoving him was red\\\\n\\\\n\\\\nTouching him is like realizing all you ever wanted was right there in front of you\\\\nMemorizing him was as easy as knowing all the words to your old favorite song\\\\nFighting with him was like trying to solve a crossword and realizing there\\xe2\\x80\\x99s no right answer\\\\nRegretting him was like wishing you never found out love could be that strong\\\\n\\\\nLosing him was blue like I\\xe2\\x80\\x99d never known\\\\nMissing him was dark grey all alone\\\\nForgetting him was like trying to know somebody you\\'ve never met\\\\nBut loving him was red\\\\nOh red burning red\\\\n\\\\nRemembering him comes in flashbacks and echoes\\\\n\\\\nTell myself it\\xe2\\x80\\x99s time now, gotta let go\\\\nBut moving on from him is impossible\\\\nWhen I still see it all in my head\\\\n\\\\nBurning red!\\\\nDarling it was red!\\\\n\\\\nOh, losing him was blue like I\\xe2\\x80\\x99d never known\\\\nMissing him was dark grey all alone\\\\nForgetting him was like trying to know somebody you\\'ve never met\\\\nCause loving him was red yeah yeah red\\\\nWe\\'re burning red\\\\n\\\\nAnd that\\'s why he\\'s spinning round in my head\\\\nComes back to me burning red\\\\nYeah yeah\\\\n\\\\n\\\\nCause love was like driving a new Maserati down a dead end street\"}'\n"
          ]
        }
      ]
    },
    {
      "cell_type": "code",
      "source": [
        "import json\n",
        "\n",
        "\n",
        "temp = json.loads(content.decode('utf-8'))\n",
        "\n",
        "print(temp)\n"
      ],
      "metadata": {
        "colab": {
          "base_uri": "https://localhost:8080/"
        },
        "id": "m6T7ZFE26oq3",
        "outputId": "a3467a4f-0ef3-491e-ecca-af85a6adc6e7"
      },
      "execution_count": null,
      "outputs": [
        {
          "output_type": "stream",
          "name": "stdout",
          "text": [
            "{'lyrics': \"Paroles de la chanson Red (Taylor’s Version) par Taylor Swift\\r\\nLoving him is like driving a new Maserati down a dead end street\\nFaster than the wind\\nPassionate as sin, ended so suddenly\\nLoving him is like trying to change your mind\\nOnce you’re already flying through the free fall\\nLike the colors in autumn\\nSo bright just before they lose it all\\n\\nLosing him was blue like I’d never known\\nMissing him was dark grey all alone\\nForgetting him was like trying to know somebody you've never met\\nBut loving him was red\\nLoving him was red\\n\\n\\nTouching him is like realizing all you ever wanted was right there in front of you\\nMemorizing him was as easy as knowing all the words to your old favorite song\\nFighting with him was like trying to solve a crossword and realizing there’s no right answer\\nRegretting him was like wishing you never found out love could be that strong\\n\\nLosing him was blue like I’d never known\\nMissing him was dark grey all alone\\nForgetting him was like trying to know somebody you've never met\\nBut loving him was red\\nOh red burning red\\n\\nRemembering him comes in flashbacks and echoes\\n\\nTell myself it’s time now, gotta let go\\nBut moving on from him is impossible\\nWhen I still see it all in my head\\n\\nBurning red!\\nDarling it was red!\\n\\nOh, losing him was blue like I’d never known\\nMissing him was dark grey all alone\\nForgetting him was like trying to know somebody you've never met\\nCause loving him was red yeah yeah red\\nWe're burning red\\n\\nAnd that's why he's spinning round in my head\\nComes back to me burning red\\nYeah yeah\\n\\n\\nCause love was like driving a new Maserati down a dead end street\"}\n"
          ]
        }
      ]
    }
  ]
}